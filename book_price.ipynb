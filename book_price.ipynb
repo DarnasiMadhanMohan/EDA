{
 "cells": [
  {
   "cell_type": "code",
   "execution_count": 1,
   "id": "aa7a90af",
   "metadata": {},
   "outputs": [],
   "source": [
    "import pandas as pd\n",
    "import numpy as np\n",
    "import seaborn as sns\n",
    "import matplotlib.pyplot as plt\n",
    "\n",
    "from sklearn.model_selection import train_test_split\n",
    "from sklearn.linear_model import LinearRegression\n",
    "from sklearn.metrics import mean_squared_error"
   ]
  },
  {
   "cell_type": "code",
   "execution_count": 2,
   "id": "3a25d2ea",
   "metadata": {},
   "outputs": [],
   "source": [
    "data = pd.read_csv(\"C:/Users/govar/Downloads/train11.csv\")"
   ]
  },
  {
   "cell_type": "code",
   "execution_count": 3,
   "id": "a601f951",
   "metadata": {},
   "outputs": [
    {
     "data": {
      "text/html": [
       "<div>\n",
       "<style scoped>\n",
       "    .dataframe tbody tr th:only-of-type {\n",
       "        vertical-align: middle;\n",
       "    }\n",
       "\n",
       "    .dataframe tbody tr th {\n",
       "        vertical-align: top;\n",
       "    }\n",
       "\n",
       "    .dataframe thead th {\n",
       "        text-align: right;\n",
       "    }\n",
       "</style>\n",
       "<table border=\"1\" class=\"dataframe\">\n",
       "  <thead>\n",
       "    <tr style=\"text-align: right;\">\n",
       "      <th></th>\n",
       "      <th>Title</th>\n",
       "      <th>Author</th>\n",
       "      <th>Edition</th>\n",
       "      <th>type</th>\n",
       "      <th>Date</th>\n",
       "      <th>Reviews</th>\n",
       "      <th>Ratings</th>\n",
       "      <th>BookCategory</th>\n",
       "      <th>Synopsis_Polarity_score</th>\n",
       "      <th>Synopsis_subjectivity_score</th>\n",
       "      <th>Price</th>\n",
       "    </tr>\n",
       "  </thead>\n",
       "  <tbody>\n",
       "    <tr>\n",
       "      <th>0</th>\n",
       "      <td>5803</td>\n",
       "      <td>748</td>\n",
       "      <td>13</td>\n",
       "      <td>20</td>\n",
       "      <td>3/10/2016</td>\n",
       "      <td>4.0</td>\n",
       "      <td>8</td>\n",
       "      <td>0</td>\n",
       "      <td>0.208800</td>\n",
       "      <td>0.451340</td>\n",
       "      <td>220.00</td>\n",
       "    </tr>\n",
       "    <tr>\n",
       "      <th>1</th>\n",
       "      <td>2120</td>\n",
       "      <td>370</td>\n",
       "      <td>13</td>\n",
       "      <td>20</td>\n",
       "      <td>11/7/2012</td>\n",
       "      <td>3.9</td>\n",
       "      <td>14</td>\n",
       "      <td>2</td>\n",
       "      <td>0.183471</td>\n",
       "      <td>0.522176</td>\n",
       "      <td>202.93</td>\n",
       "    </tr>\n",
       "    <tr>\n",
       "      <th>2</th>\n",
       "      <td>2982</td>\n",
       "      <td>4045</td>\n",
       "      <td>13</td>\n",
       "      <td>20</td>\n",
       "      <td>2/25/1982</td>\n",
       "      <td>4.8</td>\n",
       "      <td>6</td>\n",
       "      <td>6</td>\n",
       "      <td>0.191075</td>\n",
       "      <td>0.465767</td>\n",
       "      <td>299.00</td>\n",
       "    </tr>\n",
       "    <tr>\n",
       "      <th>3</th>\n",
       "      <td>189</td>\n",
       "      <td>79</td>\n",
       "      <td>13</td>\n",
       "      <td>20</td>\n",
       "      <td>10/5/2017</td>\n",
       "      <td>4.1</td>\n",
       "      <td>13</td>\n",
       "      <td>5</td>\n",
       "      <td>0.100000</td>\n",
       "      <td>0.375000</td>\n",
       "      <td>180.00</td>\n",
       "    </tr>\n",
       "    <tr>\n",
       "      <th>4</th>\n",
       "      <td>2853</td>\n",
       "      <td>1138</td>\n",
       "      <td>8</td>\n",
       "      <td>20</td>\n",
       "      <td>10/10/2006</td>\n",
       "      <td>5.0</td>\n",
       "      <td>1</td>\n",
       "      <td>1</td>\n",
       "      <td>0.356250</td>\n",
       "      <td>0.845625</td>\n",
       "      <td>965.62</td>\n",
       "    </tr>\n",
       "  </tbody>\n",
       "</table>\n",
       "</div>"
      ],
      "text/plain": [
       "   Title  Author  Edition  type        Date  Reviews  Ratings  BookCategory  \\\n",
       "0   5803     748       13    20   3/10/2016      4.0        8             0   \n",
       "1   2120     370       13    20   11/7/2012      3.9       14             2   \n",
       "2   2982    4045       13    20   2/25/1982      4.8        6             6   \n",
       "3    189      79       13    20   10/5/2017      4.1       13             5   \n",
       "4   2853    1138        8    20  10/10/2006      5.0        1             1   \n",
       "\n",
       "   Synopsis_Polarity_score  Synopsis_subjectivity_score   Price  \n",
       "0                 0.208800                     0.451340  220.00  \n",
       "1                 0.183471                     0.522176  202.93  \n",
       "2                 0.191075                     0.465767  299.00  \n",
       "3                 0.100000                     0.375000  180.00  \n",
       "4                 0.356250                     0.845625  965.62  "
      ]
     },
     "execution_count": 3,
     "metadata": {},
     "output_type": "execute_result"
    }
   ],
   "source": [
    "data.head()"
   ]
  },
  {
   "cell_type": "code",
   "execution_count": null,
   "id": "6a6f043c",
   "metadata": {},
   "outputs": [],
   "source": []
  },
  {
   "cell_type": "code",
   "execution_count": 4,
   "id": "cd45e330",
   "metadata": {},
   "outputs": [
    {
     "data": {
      "text/plain": [
       "(6237, 11)"
      ]
     },
     "execution_count": 4,
     "metadata": {},
     "output_type": "execute_result"
    }
   ],
   "source": [
    "data.shape"
   ]
  },
  {
   "cell_type": "code",
   "execution_count": null,
   "id": "81807766",
   "metadata": {},
   "outputs": [],
   "source": []
  },
  {
   "cell_type": "code",
   "execution_count": 5,
   "id": "e5c8f08d",
   "metadata": {},
   "outputs": [
    {
     "name": "stdout",
     "output_type": "stream",
     "text": [
      "<class 'pandas.core.frame.DataFrame'>\n",
      "RangeIndex: 6237 entries, 0 to 6236\n",
      "Data columns (total 11 columns):\n",
      " #   Column                       Non-Null Count  Dtype  \n",
      "---  ------                       --------------  -----  \n",
      " 0   Title                        6237 non-null   int64  \n",
      " 1   Author                       6237 non-null   int64  \n",
      " 2   Edition                      6237 non-null   int64  \n",
      " 3   type                         6237 non-null   int64  \n",
      " 4   Date                         6237 non-null   object \n",
      " 5   Reviews                      6237 non-null   float64\n",
      " 6   Ratings                      6237 non-null   int64  \n",
      " 7   BookCategory                 6237 non-null   int64  \n",
      " 8   Synopsis_Polarity_score      6237 non-null   float64\n",
      " 9   Synopsis_subjectivity_score  6237 non-null   float64\n",
      " 10  Price                        6237 non-null   float64\n",
      "dtypes: float64(4), int64(6), object(1)\n",
      "memory usage: 536.1+ KB\n"
     ]
    }
   ],
   "source": [
    "data.info()"
   ]
  },
  {
   "cell_type": "code",
   "execution_count": 6,
   "id": "92d8c8f7",
   "metadata": {},
   "outputs": [
    {
     "data": {
      "text/html": [
       "<div>\n",
       "<style scoped>\n",
       "    .dataframe tbody tr th:only-of-type {\n",
       "        vertical-align: middle;\n",
       "    }\n",
       "\n",
       "    .dataframe tbody tr th {\n",
       "        vertical-align: top;\n",
       "    }\n",
       "\n",
       "    .dataframe thead th {\n",
       "        text-align: right;\n",
       "    }\n",
       "</style>\n",
       "<table border=\"1\" class=\"dataframe\">\n",
       "  <thead>\n",
       "    <tr style=\"text-align: right;\">\n",
       "      <th></th>\n",
       "      <th>Title</th>\n",
       "      <th>Author</th>\n",
       "      <th>Edition</th>\n",
       "      <th>type</th>\n",
       "      <th>Reviews</th>\n",
       "      <th>Ratings</th>\n",
       "      <th>BookCategory</th>\n",
       "      <th>Synopsis_Polarity_score</th>\n",
       "      <th>Synopsis_subjectivity_score</th>\n",
       "      <th>Price</th>\n",
       "    </tr>\n",
       "  </thead>\n",
       "  <tbody>\n",
       "    <tr>\n",
       "      <th>count</th>\n",
       "      <td>6237.000000</td>\n",
       "      <td>6237.000000</td>\n",
       "      <td>6237.000000</td>\n",
       "      <td>6237.000000</td>\n",
       "      <td>6237.000000</td>\n",
       "      <td>6237.000000</td>\n",
       "      <td>6237.000000</td>\n",
       "      <td>6237.000000</td>\n",
       "      <td>6237.000000</td>\n",
       "      <td>6237.000000</td>\n",
       "    </tr>\n",
       "    <tr>\n",
       "      <th>mean</th>\n",
       "      <td>3398.500561</td>\n",
       "      <td>2145.817380</td>\n",
       "      <td>12.304634</td>\n",
       "      <td>18.865961</td>\n",
       "      <td>4.293202</td>\n",
       "      <td>35.984287</td>\n",
       "      <td>4.627385</td>\n",
       "      <td>0.159485</td>\n",
       "      <td>0.503266</td>\n",
       "      <td>560.707516</td>\n",
       "    </tr>\n",
       "    <tr>\n",
       "      <th>std</th>\n",
       "      <td>1965.721194</td>\n",
       "      <td>1263.391655</td>\n",
       "      <td>1.781668</td>\n",
       "      <td>3.126167</td>\n",
       "      <td>0.662501</td>\n",
       "      <td>149.995031</td>\n",
       "      <td>3.169320</td>\n",
       "      <td>0.145011</td>\n",
       "      <td>0.130498</td>\n",
       "      <td>690.110657</td>\n",
       "    </tr>\n",
       "    <tr>\n",
       "      <th>min</th>\n",
       "      <td>0.000000</td>\n",
       "      <td>0.000000</td>\n",
       "      <td>1.000000</td>\n",
       "      <td>0.000000</td>\n",
       "      <td>1.000000</td>\n",
       "      <td>1.000000</td>\n",
       "      <td>0.000000</td>\n",
       "      <td>-1.000000</td>\n",
       "      <td>0.000000</td>\n",
       "      <td>25.000000</td>\n",
       "    </tr>\n",
       "    <tr>\n",
       "      <th>25%</th>\n",
       "      <td>1686.000000</td>\n",
       "      <td>1071.000000</td>\n",
       "      <td>13.000000</td>\n",
       "      <td>20.000000</td>\n",
       "      <td>4.000000</td>\n",
       "      <td>2.000000</td>\n",
       "      <td>2.000000</td>\n",
       "      <td>0.076533</td>\n",
       "      <td>0.433160</td>\n",
       "      <td>249.180000</td>\n",
       "    </tr>\n",
       "    <tr>\n",
       "      <th>50%</th>\n",
       "      <td>3413.000000</td>\n",
       "      <td>2127.000000</td>\n",
       "      <td>13.000000</td>\n",
       "      <td>20.000000</td>\n",
       "      <td>4.400000</td>\n",
       "      <td>7.000000</td>\n",
       "      <td>5.000000</td>\n",
       "      <td>0.161655</td>\n",
       "      <td>0.507364</td>\n",
       "      <td>373.000000</td>\n",
       "    </tr>\n",
       "    <tr>\n",
       "      <th>75%</th>\n",
       "      <td>5097.000000</td>\n",
       "      <td>3236.000000</td>\n",
       "      <td>13.000000</td>\n",
       "      <td>20.000000</td>\n",
       "      <td>4.800000</td>\n",
       "      <td>22.000000</td>\n",
       "      <td>7.000000</td>\n",
       "      <td>0.246296</td>\n",
       "      <td>0.583333</td>\n",
       "      <td>599.000000</td>\n",
       "    </tr>\n",
       "    <tr>\n",
       "      <th>max</th>\n",
       "      <td>6785.000000</td>\n",
       "      <td>4371.000000</td>\n",
       "      <td>19.000000</td>\n",
       "      <td>20.000000</td>\n",
       "      <td>5.000000</td>\n",
       "      <td>6090.000000</td>\n",
       "      <td>10.000000</td>\n",
       "      <td>1.000000</td>\n",
       "      <td>1.000000</td>\n",
       "      <td>14100.000000</td>\n",
       "    </tr>\n",
       "  </tbody>\n",
       "</table>\n",
       "</div>"
      ],
      "text/plain": [
       "             Title       Author      Edition         type      Reviews  \\\n",
       "count  6237.000000  6237.000000  6237.000000  6237.000000  6237.000000   \n",
       "mean   3398.500561  2145.817380    12.304634    18.865961     4.293202   \n",
       "std    1965.721194  1263.391655     1.781668     3.126167     0.662501   \n",
       "min       0.000000     0.000000     1.000000     0.000000     1.000000   \n",
       "25%    1686.000000  1071.000000    13.000000    20.000000     4.000000   \n",
       "50%    3413.000000  2127.000000    13.000000    20.000000     4.400000   \n",
       "75%    5097.000000  3236.000000    13.000000    20.000000     4.800000   \n",
       "max    6785.000000  4371.000000    19.000000    20.000000     5.000000   \n",
       "\n",
       "           Ratings  BookCategory  Synopsis_Polarity_score  \\\n",
       "count  6237.000000   6237.000000              6237.000000   \n",
       "mean     35.984287      4.627385                 0.159485   \n",
       "std     149.995031      3.169320                 0.145011   \n",
       "min       1.000000      0.000000                -1.000000   \n",
       "25%       2.000000      2.000000                 0.076533   \n",
       "50%       7.000000      5.000000                 0.161655   \n",
       "75%      22.000000      7.000000                 0.246296   \n",
       "max    6090.000000     10.000000                 1.000000   \n",
       "\n",
       "       Synopsis_subjectivity_score         Price  \n",
       "count                  6237.000000   6237.000000  \n",
       "mean                      0.503266    560.707516  \n",
       "std                       0.130498    690.110657  \n",
       "min                       0.000000     25.000000  \n",
       "25%                       0.433160    249.180000  \n",
       "50%                       0.507364    373.000000  \n",
       "75%                       0.583333    599.000000  \n",
       "max                       1.000000  14100.000000  "
      ]
     },
     "execution_count": 6,
     "metadata": {},
     "output_type": "execute_result"
    }
   ],
   "source": [
    "data.describe()"
   ]
  },
  {
   "cell_type": "code",
   "execution_count": 7,
   "id": "612c11d3",
   "metadata": {},
   "outputs": [
    {
     "data": {
      "text/plain": [
       "Title                          0\n",
       "Author                         0\n",
       "Edition                        0\n",
       "type                           0\n",
       "Date                           0\n",
       "Reviews                        0\n",
       "Ratings                        0\n",
       "BookCategory                   0\n",
       "Synopsis_Polarity_score        0\n",
       "Synopsis_subjectivity_score    0\n",
       "Price                          0\n",
       "dtype: int64"
      ]
     },
     "execution_count": 7,
     "metadata": {},
     "output_type": "execute_result"
    }
   ],
   "source": [
    "data.isnull().sum()"
   ]
  },
  {
   "cell_type": "code",
   "execution_count": 8,
   "id": "4a820dc3",
   "metadata": {},
   "outputs": [],
   "source": [
    "duplicate = data.duplicated().sum()"
   ]
  },
  {
   "cell_type": "code",
   "execution_count": 9,
   "id": "7e8148f5",
   "metadata": {},
   "outputs": [
    {
     "name": "stdout",
     "output_type": "stream",
     "text": [
      "the number of duplicates is: 0\n"
     ]
    }
   ],
   "source": [
    "print(f\"the number of duplicates is: {duplicate}\")"
   ]
  },
  {
   "cell_type": "markdown",
   "id": "8ee8b2a0",
   "metadata": {},
   "source": [
    "# Univariant analysis"
   ]
  },
  {
   "cell_type": "code",
   "execution_count": 10,
   "id": "d0f4733c",
   "metadata": {},
   "outputs": [
    {
     "data": {
      "image/png": "[encoded data removed]",
      "text/plain": [
       "<Figure size 640x480 with 1 Axes>"
      ]
     },
     "metadata": {},
     "output_type": "display_data"
    },
    {
     "data": {
      "image/png": "[encoded data removed]",
      "text/plain": [
       "<Figure size 640x480 with 1 Axes>"
      ]
     },
     "metadata": {},
     "output_type": "display_data"
    },
    {
     "data": {
      "image/png": "[encoded data removed]",
      "text/plain": [
       "<Figure size 640x480 with 1 Axes>"
      ]
     },
     "metadata": {},
     "output_type": "display_data"
    }
   ],
   "source": [
    "sns.histplot(data['Reviews'], kde=True)\n",
    "plt.show()\n",
    "\n",
    "sns.histplot(data['BookCategory'], kde=False)\n",
    "plt.show()\n",
    "\n",
    "sns.histplot(data['Price'], kde=False)\n",
    "plt.show()"
   ]
  },
  {
   "cell_type": "markdown",
   "id": "95913396",
   "metadata": {},
   "source": [
    "# Bivariant analysis"
   ]
  },
  {
   "cell_type": "code",
   "execution_count": 40,
   "id": "233e2b00",
   "metadata": {},
   "outputs": [
    {
     "data": {
      "image/png": "[encoded data removed]",
      "text/plain": [
       "<Figure size 640x480 with 1 Axes>"
      ]
     },
     "metadata": {},
     "output_type": "display_data"
    }
   ],
   "source": [
    "sns.barplot(x='date_month', y='Price', hue='date_month', data=data)\n",
    "plt.show()\n",
    "\n"
   ]
  },
  {
   "cell_type": "code",
   "execution_count": null,
   "id": "7c5278e5",
   "metadata": {},
   "outputs": [],
   "source": []
  },
  {
   "cell_type": "markdown",
   "id": "5b15181d",
   "metadata": {},
   "source": [
    "# Multivariant analysis"
   ]
  },
  {
   "cell_type": "code",
   "execution_count": 12,
   "id": "4dea24b4",
   "metadata": {},
   "outputs": [],
   "source": [
    "data1 = data.drop('Date', axis=1)"
   ]
  },
  {
   "cell_type": "code",
   "execution_count": 13,
   "id": "f6f688d6",
   "metadata": {},
   "outputs": [
    {
     "data": {
      "image/png": "[encoded data removed]",
      "text/plain": [
       "<Figure size 640x480 with 2 Axes>"
      ]
     },
     "metadata": {},
     "output_type": "display_data"
    }
   ],
   "source": [
    "corr = data1.corr()\n",
    "sns.heatmap(corr, annot=True, cmap = 'coolwarm')\n",
    "plt.show()"
   ]
  },
  {
   "cell_type": "markdown",
   "id": "f2a1b336",
   "metadata": {},
   "source": [
    "# Data preprocessing"
   ]
  },
  {
   "cell_type": "markdown",
   "id": "996c4fe6",
   "metadata": {},
   "source": [
    "# Handling outliers"
   ]
  },
  {
   "cell_type": "code",
   "execution_count": 14,
   "id": "f0c4c67f",
   "metadata": {},
   "outputs": [
    {
     "data": {
      "text/plain": [
       "<Axes: >"
      ]
     },
     "execution_count": 14,
     "metadata": {},
     "output_type": "execute_result"
    },
    {
     "data": {
      "image/png": "[encoded data removed]",
      "text/plain": [
       "<Figure size 640x480 with 1 Axes>"
      ]
     },
     "metadata": {},
     "output_type": "display_data"
    }
   ],
   "source": [
    "sns.boxplot(data['Price'])"
   ]
  },
  {
   "cell_type": "markdown",
   "id": "f725b476",
   "metadata": {},
   "source": [
    "# IQR method"
   ]
  },
  {
   "cell_type": "code",
   "execution_count": 15,
   "id": "8b82012a",
   "metadata": {},
   "outputs": [],
   "source": [
    "q1 = data['Price'].quantile(0.25)\n",
    "q3 = data['Price'].quantile(0.75)\n",
    "iqr = q3-q1"
   ]
  },
  {
   "cell_type": "code",
   "execution_count": 16,
   "id": "bc3428e7",
   "metadata": {},
   "outputs": [
    {
     "data": {
      "text/plain": [
       "(249.18, 599.0, 349.82)"
      ]
     },
     "execution_count": 16,
     "metadata": {},
     "output_type": "execute_result"
    }
   ],
   "source": [
    "q1, q3, iqr"
   ]
  },
  {
   "cell_type": "code",
   "execution_count": 17,
   "id": "56dd0e6c",
   "metadata": {},
   "outputs": [
    {
     "data": {
      "text/plain": [
       "(-275.55, 1123.73)"
      ]
     },
     "execution_count": 17,
     "metadata": {},
     "output_type": "execute_result"
    }
   ],
   "source": [
    "upper_limit = q3 + (1.5*iqr)\n",
    "lower_limit = q1 - (1.5*iqr)\n",
    "lower_limit, upper_limit"
   ]
  },
  {
   "cell_type": "code",
   "execution_count": 18,
   "id": "f819ec8f",
   "metadata": {},
   "outputs": [
    {
     "data": {
      "text/html": [
       "<div>\n",
       "<style scoped>\n",
       "    .dataframe tbody tr th:only-of-type {\n",
       "        vertical-align: middle;\n",
       "    }\n",
       "\n",
       "    .dataframe tbody tr th {\n",
       "        vertical-align: top;\n",
       "    }\n",
       "\n",
       "    .dataframe thead th {\n",
       "        text-align: right;\n",
       "    }\n",
       "</style>\n",
       "<table border=\"1\" class=\"dataframe\">\n",
       "  <thead>\n",
       "    <tr style=\"text-align: right;\">\n",
       "      <th></th>\n",
       "      <th>Title</th>\n",
       "      <th>Author</th>\n",
       "      <th>Edition</th>\n",
       "      <th>type</th>\n",
       "      <th>Date</th>\n",
       "      <th>Reviews</th>\n",
       "      <th>Ratings</th>\n",
       "      <th>BookCategory</th>\n",
       "      <th>Synopsis_Polarity_score</th>\n",
       "      <th>Synopsis_subjectivity_score</th>\n",
       "      <th>Price</th>\n",
       "    </tr>\n",
       "  </thead>\n",
       "  <tbody>\n",
       "    <tr>\n",
       "      <th>27</th>\n",
       "      <td>5003</td>\n",
       "      <td>2898</td>\n",
       "      <td>13</td>\n",
       "      <td>4</td>\n",
       "      <td>6/15/2014</td>\n",
       "      <td>4.3</td>\n",
       "      <td>34</td>\n",
       "      <td>3</td>\n",
       "      <td>0.095000</td>\n",
       "      <td>0.363333</td>\n",
       "      <td>3779.0</td>\n",
       "    </tr>\n",
       "    <tr>\n",
       "      <th>34</th>\n",
       "      <td>4867</td>\n",
       "      <td>2788</td>\n",
       "      <td>8</td>\n",
       "      <td>20</td>\n",
       "      <td>5/10/2016</td>\n",
       "      <td>4.3</td>\n",
       "      <td>10</td>\n",
       "      <td>3</td>\n",
       "      <td>0.089636</td>\n",
       "      <td>0.599455</td>\n",
       "      <td>1780.0</td>\n",
       "    </tr>\n",
       "    <tr>\n",
       "      <th>41</th>\n",
       "      <td>4249</td>\n",
       "      <td>1072</td>\n",
       "      <td>8</td>\n",
       "      <td>20</td>\n",
       "      <td>9/28/2013</td>\n",
       "      <td>4.7</td>\n",
       "      <td>5</td>\n",
       "      <td>5</td>\n",
       "      <td>0.070175</td>\n",
       "      <td>0.571491</td>\n",
       "      <td>1455.9</td>\n",
       "    </tr>\n",
       "    <tr>\n",
       "      <th>49</th>\n",
       "      <td>3199</td>\n",
       "      <td>2477</td>\n",
       "      <td>13</td>\n",
       "      <td>20</td>\n",
       "      <td>3/30/2012</td>\n",
       "      <td>4.8</td>\n",
       "      <td>14</td>\n",
       "      <td>1</td>\n",
       "      <td>0.268262</td>\n",
       "      <td>0.417048</td>\n",
       "      <td>1383.0</td>\n",
       "    </tr>\n",
       "    <tr>\n",
       "      <th>77</th>\n",
       "      <td>516</td>\n",
       "      <td>1181</td>\n",
       "      <td>13</td>\n",
       "      <td>19</td>\n",
       "      <td>11/1/2007</td>\n",
       "      <td>4.1</td>\n",
       "      <td>5</td>\n",
       "      <td>1</td>\n",
       "      <td>0.411111</td>\n",
       "      <td>0.502778</td>\n",
       "      <td>1643.0</td>\n",
       "    </tr>\n",
       "    <tr>\n",
       "      <th>...</th>\n",
       "      <td>...</td>\n",
       "      <td>...</td>\n",
       "      <td>...</td>\n",
       "      <td>...</td>\n",
       "      <td>...</td>\n",
       "      <td>...</td>\n",
       "      <td>...</td>\n",
       "      <td>...</td>\n",
       "      <td>...</td>\n",
       "      <td>...</td>\n",
       "      <td>...</td>\n",
       "    </tr>\n",
       "    <tr>\n",
       "      <th>6144</th>\n",
       "      <td>16</td>\n",
       "      <td>3935</td>\n",
       "      <td>13</td>\n",
       "      <td>20</td>\n",
       "      <td>4/14/2011</td>\n",
       "      <td>5.0</td>\n",
       "      <td>4</td>\n",
       "      <td>1</td>\n",
       "      <td>0.243485</td>\n",
       "      <td>0.474811</td>\n",
       "      <td>1821.0</td>\n",
       "    </tr>\n",
       "    <tr>\n",
       "      <th>6154</th>\n",
       "      <td>5081</td>\n",
       "      <td>2187</td>\n",
       "      <td>13</td>\n",
       "      <td>20</td>\n",
       "      <td>3/7/2017</td>\n",
       "      <td>5.0</td>\n",
       "      <td>5</td>\n",
       "      <td>6</td>\n",
       "      <td>0.136376</td>\n",
       "      <td>0.395855</td>\n",
       "      <td>1983.0</td>\n",
       "    </tr>\n",
       "    <tr>\n",
       "      <th>6190</th>\n",
       "      <td>4722</td>\n",
       "      <td>3461</td>\n",
       "      <td>8</td>\n",
       "      <td>20</td>\n",
       "      <td>6/18/2013</td>\n",
       "      <td>5.0</td>\n",
       "      <td>1</td>\n",
       "      <td>0</td>\n",
       "      <td>0.173636</td>\n",
       "      <td>0.351288</td>\n",
       "      <td>3859.0</td>\n",
       "    </tr>\n",
       "    <tr>\n",
       "      <th>6201</th>\n",
       "      <td>5405</td>\n",
       "      <td>981</td>\n",
       "      <td>13</td>\n",
       "      <td>20</td>\n",
       "      <td>9/3/2010</td>\n",
       "      <td>3.8</td>\n",
       "      <td>3</td>\n",
       "      <td>7</td>\n",
       "      <td>0.199020</td>\n",
       "      <td>0.436275</td>\n",
       "      <td>2033.0</td>\n",
       "    </tr>\n",
       "    <tr>\n",
       "      <th>6227</th>\n",
       "      <td>499</td>\n",
       "      <td>1264</td>\n",
       "      <td>13</td>\n",
       "      <td>20</td>\n",
       "      <td>11/14/2014</td>\n",
       "      <td>4.7</td>\n",
       "      <td>7</td>\n",
       "      <td>1</td>\n",
       "      <td>0.045030</td>\n",
       "      <td>0.402879</td>\n",
       "      <td>2729.0</td>\n",
       "    </tr>\n",
       "  </tbody>\n",
       "</table>\n",
       "<p>597 rows × 11 columns</p>\n",
       "</div>"
      ],
      "text/plain": [
       "      Title  Author  Edition  type        Date  Reviews  Ratings  \\\n",
       "27     5003    2898       13     4   6/15/2014      4.3       34   \n",
       "34     4867    2788        8    20   5/10/2016      4.3       10   \n",
       "41     4249    1072        8    20   9/28/2013      4.7        5   \n",
       "49     3199    2477       13    20   3/30/2012      4.8       14   \n",
       "77      516    1181       13    19   11/1/2007      4.1        5   \n",
       "...     ...     ...      ...   ...         ...      ...      ...   \n",
       "6144     16    3935       13    20   4/14/2011      5.0        4   \n",
       "6154   5081    2187       13    20    3/7/2017      5.0        5   \n",
       "6190   4722    3461        8    20   6/18/2013      5.0        1   \n",
       "6201   5405     981       13    20    9/3/2010      3.8        3   \n",
       "6227    499    1264       13    20  11/14/2014      4.7        7   \n",
       "\n",
       "      BookCategory  Synopsis_Polarity_score  Synopsis_subjectivity_score  \\\n",
       "27               3                 0.095000                     0.363333   \n",
       "34               3                 0.089636                     0.599455   \n",
       "41               5                 0.070175                     0.571491   \n",
       "49               1                 0.268262                     0.417048   \n",
       "77               1                 0.411111                     0.502778   \n",
       "...            ...                      ...                          ...   \n",
       "6144             1                 0.243485                     0.474811   \n",
       "6154             6                 0.136376                     0.395855   \n",
       "6190             0                 0.173636                     0.351288   \n",
       "6201             7                 0.199020                     0.436275   \n",
       "6227             1                 0.045030                     0.402879   \n",
       "\n",
       "       Price  \n",
       "27    3779.0  \n",
       "34    1780.0  \n",
       "41    1455.9  \n",
       "49    1383.0  \n",
       "77    1643.0  \n",
       "...      ...  \n",
       "6144  1821.0  \n",
       "6154  1983.0  \n",
       "6190  3859.0  \n",
       "6201  2033.0  \n",
       "6227  2729.0  \n",
       "\n",
       "[597 rows x 11 columns]"
      ]
     },
     "execution_count": 18,
     "metadata": {},
     "output_type": "execute_result"
    }
   ],
   "source": [
    "data.loc[(data['Price'] > upper_limit) | (data['Price'] < lower_limit)]"
   ]
  },
  {
   "cell_type": "code",
   "execution_count": 19,
   "id": "21dc0742",
   "metadata": {},
   "outputs": [
    {
     "name": "stdout",
     "output_type": "stream",
     "text": [
      "Before removing outliers: 6237\n",
      "after removing outliers: 5640\n",
      "outliers: 597\n"
     ]
    }
   ],
   "source": [
    "new_data = data.loc[(data['Price'] < upper_limit) & (data['Price'] > lower_limit)]\n",
    "print(\"Before removing outliers:\", len(data))\n",
    "print(\"after removing outliers:\", len(new_data))\n",
    "print(\"outliers:\", len(data)-len(new_data))\n"
   ]
  },
  {
   "cell_type": "code",
   "execution_count": 20,
   "id": "68830738",
   "metadata": {},
   "outputs": [
    {
     "data": {
      "text/plain": [
       "<Axes: >"
      ]
     },
     "execution_count": 20,
     "metadata": {},
     "output_type": "execute_result"
    },
    {
     "data": {
      "image/png": "[encoded data removed]",
      "text/plain": [
       "<Figure size 640x480 with 1 Axes>"
      ]
     },
     "metadata": {},
     "output_type": "display_data"
    }
   ],
   "source": [
    "sns.boxplot(new_data['Price'])"
   ]
  },
  {
   "cell_type": "markdown",
   "id": "274f9734",
   "metadata": {},
   "source": [
    "Ofter removing outliers"
   ]
  },
  {
   "cell_type": "markdown",
   "id": "f8793a7c",
   "metadata": {},
   "source": [
    "DATE EXTRACTION"
   ]
  },
  {
   "cell_type": "code",
   "execution_count": 21,
   "id": "c0cab9af",
   "metadata": {},
   "outputs": [],
   "source": [
    "data['Date'] = pd.to_datetime(data['Date'])\n",
    "\n",
    "data['date_month'] = data['Date'].dt.month\n"
   ]
  },
  {
   "cell_type": "code",
   "execution_count": 22,
   "id": "277d1683",
   "metadata": {},
   "outputs": [
    {
     "data": {
      "text/html": [
       "<div>\n",
       "<style scoped>\n",
       "    .dataframe tbody tr th:only-of-type {\n",
       "        vertical-align: middle;\n",
       "    }\n",
       "\n",
       "    .dataframe tbody tr th {\n",
       "        vertical-align: top;\n",
       "    }\n",
       "\n",
       "    .dataframe thead th {\n",
       "        text-align: right;\n",
       "    }\n",
       "</style>\n",
       "<table border=\"1\" class=\"dataframe\">\n",
       "  <thead>\n",
       "    <tr style=\"text-align: right;\">\n",
       "      <th></th>\n",
       "      <th>Title</th>\n",
       "      <th>Author</th>\n",
       "      <th>Edition</th>\n",
       "      <th>type</th>\n",
       "      <th>Date</th>\n",
       "      <th>Reviews</th>\n",
       "      <th>Ratings</th>\n",
       "      <th>BookCategory</th>\n",
       "      <th>Synopsis_Polarity_score</th>\n",
       "      <th>Synopsis_subjectivity_score</th>\n",
       "      <th>Price</th>\n",
       "      <th>date_month</th>\n",
       "      <th>date_day</th>\n",
       "    </tr>\n",
       "  </thead>\n",
       "  <tbody>\n",
       "    <tr>\n",
       "      <th>0</th>\n",
       "      <td>5803</td>\n",
       "      <td>748</td>\n",
       "      <td>13</td>\n",
       "      <td>20</td>\n",
       "      <td>2016-03-10</td>\n",
       "      <td>4.0</td>\n",
       "      <td>8</td>\n",
       "      <td>0</td>\n",
       "      <td>0.208800</td>\n",
       "      <td>0.451340</td>\n",
       "      <td>220.00</td>\n",
       "      <td>3</td>\n",
       "      <td>10</td>\n",
       "    </tr>\n",
       "    <tr>\n",
       "      <th>1</th>\n",
       "      <td>2120</td>\n",
       "      <td>370</td>\n",
       "      <td>13</td>\n",
       "      <td>20</td>\n",
       "      <td>2012-11-07</td>\n",
       "      <td>3.9</td>\n",
       "      <td>14</td>\n",
       "      <td>2</td>\n",
       "      <td>0.183471</td>\n",
       "      <td>0.522176</td>\n",
       "      <td>202.93</td>\n",
       "      <td>11</td>\n",
       "      <td>7</td>\n",
       "    </tr>\n",
       "    <tr>\n",
       "      <th>2</th>\n",
       "      <td>2982</td>\n",
       "      <td>4045</td>\n",
       "      <td>13</td>\n",
       "      <td>20</td>\n",
       "      <td>1982-02-25</td>\n",
       "      <td>4.8</td>\n",
       "      <td>6</td>\n",
       "      <td>6</td>\n",
       "      <td>0.191075</td>\n",
       "      <td>0.465767</td>\n",
       "      <td>299.00</td>\n",
       "      <td>2</td>\n",
       "      <td>25</td>\n",
       "    </tr>\n",
       "    <tr>\n",
       "      <th>3</th>\n",
       "      <td>189</td>\n",
       "      <td>79</td>\n",
       "      <td>13</td>\n",
       "      <td>20</td>\n",
       "      <td>2017-10-05</td>\n",
       "      <td>4.1</td>\n",
       "      <td>13</td>\n",
       "      <td>5</td>\n",
       "      <td>0.100000</td>\n",
       "      <td>0.375000</td>\n",
       "      <td>180.00</td>\n",
       "      <td>10</td>\n",
       "      <td>5</td>\n",
       "    </tr>\n",
       "    <tr>\n",
       "      <th>4</th>\n",
       "      <td>2853</td>\n",
       "      <td>1138</td>\n",
       "      <td>8</td>\n",
       "      <td>20</td>\n",
       "      <td>2006-10-10</td>\n",
       "      <td>5.0</td>\n",
       "      <td>1</td>\n",
       "      <td>1</td>\n",
       "      <td>0.356250</td>\n",
       "      <td>0.845625</td>\n",
       "      <td>965.62</td>\n",
       "      <td>10</td>\n",
       "      <td>10</td>\n",
       "    </tr>\n",
       "  </tbody>\n",
       "</table>\n",
       "</div>"
      ],
      "text/plain": [
       "   Title  Author  Edition  type       Date  Reviews  Ratings  BookCategory  \\\n",
       "0   5803     748       13    20 2016-03-10      4.0        8             0   \n",
       "1   2120     370       13    20 2012-11-07      3.9       14             2   \n",
       "2   2982    4045       13    20 1982-02-25      4.8        6             6   \n",
       "3    189      79       13    20 2017-10-05      4.1       13             5   \n",
       "4   2853    1138        8    20 2006-10-10      5.0        1             1   \n",
       "\n",
       "   Synopsis_Polarity_score  Synopsis_subjectivity_score   Price  date_month  \\\n",
       "0                 0.208800                     0.451340  220.00           3   \n",
       "1                 0.183471                     0.522176  202.93          11   \n",
       "2                 0.191075                     0.465767  299.00           2   \n",
       "3                 0.100000                     0.375000  180.00          10   \n",
       "4                 0.356250                     0.845625  965.62          10   \n",
       "\n",
       "   date_day  \n",
       "0        10  \n",
       "1         7  \n",
       "2        25  \n",
       "3         5  \n",
       "4        10  "
      ]
     },
     "execution_count": 22,
     "metadata": {},
     "output_type": "execute_result"
    }
   ],
   "source": [
    "data['date_day'] = data['Date'].dt.day\n",
    "data.head()\n"
   ]
  },
  {
   "cell_type": "code",
   "execution_count": 23,
   "id": "5e1769d5",
   "metadata": {},
   "outputs": [
    {
     "data": {
      "text/html": [
       "<div>\n",
       "<style scoped>\n",
       "    .dataframe tbody tr th:only-of-type {\n",
       "        vertical-align: middle;\n",
       "    }\n",
       "\n",
       "    .dataframe tbody tr th {\n",
       "        vertical-align: top;\n",
       "    }\n",
       "\n",
       "    .dataframe thead th {\n",
       "        text-align: right;\n",
       "    }\n",
       "</style>\n",
       "<table border=\"1\" class=\"dataframe\">\n",
       "  <thead>\n",
       "    <tr style=\"text-align: right;\">\n",
       "      <th></th>\n",
       "      <th>Title</th>\n",
       "      <th>Author</th>\n",
       "      <th>Edition</th>\n",
       "      <th>type</th>\n",
       "      <th>Reviews</th>\n",
       "      <th>Ratings</th>\n",
       "      <th>BookCategory</th>\n",
       "      <th>Synopsis_Polarity_score</th>\n",
       "      <th>Synopsis_subjectivity_score</th>\n",
       "      <th>Price</th>\n",
       "      <th>date_month</th>\n",
       "      <th>date_day</th>\n",
       "    </tr>\n",
       "  </thead>\n",
       "  <tbody>\n",
       "    <tr>\n",
       "      <th>0</th>\n",
       "      <td>5803</td>\n",
       "      <td>748</td>\n",
       "      <td>13</td>\n",
       "      <td>20</td>\n",
       "      <td>4.0</td>\n",
       "      <td>8</td>\n",
       "      <td>0</td>\n",
       "      <td>0.208800</td>\n",
       "      <td>0.451340</td>\n",
       "      <td>220.00</td>\n",
       "      <td>3</td>\n",
       "      <td>10</td>\n",
       "    </tr>\n",
       "    <tr>\n",
       "      <th>1</th>\n",
       "      <td>2120</td>\n",
       "      <td>370</td>\n",
       "      <td>13</td>\n",
       "      <td>20</td>\n",
       "      <td>3.9</td>\n",
       "      <td>14</td>\n",
       "      <td>2</td>\n",
       "      <td>0.183471</td>\n",
       "      <td>0.522176</td>\n",
       "      <td>202.93</td>\n",
       "      <td>11</td>\n",
       "      <td>7</td>\n",
       "    </tr>\n",
       "    <tr>\n",
       "      <th>2</th>\n",
       "      <td>2982</td>\n",
       "      <td>4045</td>\n",
       "      <td>13</td>\n",
       "      <td>20</td>\n",
       "      <td>4.8</td>\n",
       "      <td>6</td>\n",
       "      <td>6</td>\n",
       "      <td>0.191075</td>\n",
       "      <td>0.465767</td>\n",
       "      <td>299.00</td>\n",
       "      <td>2</td>\n",
       "      <td>25</td>\n",
       "    </tr>\n",
       "    <tr>\n",
       "      <th>3</th>\n",
       "      <td>189</td>\n",
       "      <td>79</td>\n",
       "      <td>13</td>\n",
       "      <td>20</td>\n",
       "      <td>4.1</td>\n",
       "      <td>13</td>\n",
       "      <td>5</td>\n",
       "      <td>0.100000</td>\n",
       "      <td>0.375000</td>\n",
       "      <td>180.00</td>\n",
       "      <td>10</td>\n",
       "      <td>5</td>\n",
       "    </tr>\n",
       "    <tr>\n",
       "      <th>4</th>\n",
       "      <td>2853</td>\n",
       "      <td>1138</td>\n",
       "      <td>8</td>\n",
       "      <td>20</td>\n",
       "      <td>5.0</td>\n",
       "      <td>1</td>\n",
       "      <td>1</td>\n",
       "      <td>0.356250</td>\n",
       "      <td>0.845625</td>\n",
       "      <td>965.62</td>\n",
       "      <td>10</td>\n",
       "      <td>10</td>\n",
       "    </tr>\n",
       "  </tbody>\n",
       "</table>\n",
       "</div>"
      ],
      "text/plain": [
       "   Title  Author  Edition  type  Reviews  Ratings  BookCategory  \\\n",
       "0   5803     748       13    20      4.0        8             0   \n",
       "1   2120     370       13    20      3.9       14             2   \n",
       "2   2982    4045       13    20      4.8        6             6   \n",
       "3    189      79       13    20      4.1       13             5   \n",
       "4   2853    1138        8    20      5.0        1             1   \n",
       "\n",
       "   Synopsis_Polarity_score  Synopsis_subjectivity_score   Price  date_month  \\\n",
       "0                 0.208800                     0.451340  220.00           3   \n",
       "1                 0.183471                     0.522176  202.93          11   \n",
       "2                 0.191075                     0.465767  299.00           2   \n",
       "3                 0.100000                     0.375000  180.00          10   \n",
       "4                 0.356250                     0.845625  965.62          10   \n",
       "\n",
       "   date_day  \n",
       "0        10  \n",
       "1         7  \n",
       "2        25  \n",
       "3         5  \n",
       "4        10  "
      ]
     },
     "execution_count": 23,
     "metadata": {},
     "output_type": "execute_result"
    }
   ],
   "source": [
    "data = data.drop('Date', axis=1)\n",
    "data.head()"
   ]
  },
  {
   "cell_type": "markdown",
   "id": "7beb04ff",
   "metadata": {},
   "source": [
    "# Fitting a model (Linear Regression)"
   ]
  },
  {
   "cell_type": "code",
   "execution_count": 24,
   "id": "a65619de",
   "metadata": {},
   "outputs": [],
   "source": [
    "from sklearn.linear_model import LinearRegression\n",
    "from sklearn.model_selection import train_test_split\n",
    "from sklearn.metrics import mean_absolute_error, mean_squared_error, r2_score\n",
    "from sklearn.preprocessing import OneHotEncoder, StandardScaler\n",
    "from statsmodels.stats.outliers_influence import variance_inflation_factor\n",
    "\n",
    "import statsmodels.api as sm "
   ]
  },
  {
   "cell_type": "code",
   "execution_count": 45,
   "id": "14580714",
   "metadata": {},
   "outputs": [],
   "source": [
    "x = data[['Reviews', 'Ratings', 'Synopsis_subjectivity_score', 'date_month']]\n",
    "y = data['Price']"
   ]
  },
  {
   "cell_type": "code",
   "execution_count": 46,
   "id": "3f5fd464",
   "metadata": {},
   "outputs": [],
   "source": [
    "x_train, x_test, y_train, y_test = train_test_split(x, y, test_size = 0.33, random_state=141)"
   ]
  },
  {
   "cell_type": "code",
   "execution_count": 47,
   "id": "6580eb41",
   "metadata": {},
   "outputs": [
    {
     "data": {
      "text/html": [
       "<div>\n",
       "<style scoped>\n",
       "    .dataframe tbody tr th:only-of-type {\n",
       "        vertical-align: middle;\n",
       "    }\n",
       "\n",
       "    .dataframe tbody tr th {\n",
       "        vertical-align: top;\n",
       "    }\n",
       "\n",
       "    .dataframe thead th {\n",
       "        text-align: right;\n",
       "    }\n",
       "</style>\n",
       "<table border=\"1\" class=\"dataframe\">\n",
       "  <thead>\n",
       "    <tr style=\"text-align: right;\">\n",
       "      <th></th>\n",
       "      <th>Reviews</th>\n",
       "      <th>Ratings</th>\n",
       "      <th>Synopsis_subjectivity_score</th>\n",
       "      <th>date_month</th>\n",
       "    </tr>\n",
       "  </thead>\n",
       "  <tbody>\n",
       "    <tr>\n",
       "      <th>5996</th>\n",
       "      <td>5.0</td>\n",
       "      <td>2</td>\n",
       "      <td>0.433747</td>\n",
       "      <td>3</td>\n",
       "    </tr>\n",
       "    <tr>\n",
       "      <th>5547</th>\n",
       "      <td>5.0</td>\n",
       "      <td>1</td>\n",
       "      <td>0.450000</td>\n",
       "      <td>12</td>\n",
       "    </tr>\n",
       "    <tr>\n",
       "      <th>4839</th>\n",
       "      <td>4.6</td>\n",
       "      <td>3</td>\n",
       "      <td>0.500000</td>\n",
       "      <td>7</td>\n",
       "    </tr>\n",
       "    <tr>\n",
       "      <th>5739</th>\n",
       "      <td>5.0</td>\n",
       "      <td>1</td>\n",
       "      <td>0.417965</td>\n",
       "      <td>10</td>\n",
       "    </tr>\n",
       "    <tr>\n",
       "      <th>2859</th>\n",
       "      <td>3.4</td>\n",
       "      <td>6</td>\n",
       "      <td>0.625000</td>\n",
       "      <td>9</td>\n",
       "    </tr>\n",
       "  </tbody>\n",
       "</table>\n",
       "</div>"
      ],
      "text/plain": [
       "      Reviews  Ratings  Synopsis_subjectivity_score  date_month\n",
       "5996      5.0        2                     0.433747           3\n",
       "5547      5.0        1                     0.450000          12\n",
       "4839      4.6        3                     0.500000           7\n",
       "5739      5.0        1                     0.417965          10\n",
       "2859      3.4        6                     0.625000           9"
      ]
     },
     "execution_count": 47,
     "metadata": {},
     "output_type": "execute_result"
    }
   ],
   "source": [
    "x_train.head()"
   ]
  },
  {
   "cell_type": "code",
   "execution_count": 48,
   "id": "ced9a67d",
   "metadata": {},
   "outputs": [
    {
     "data": {
      "text/plain": [
       "(4178, 4)"
      ]
     },
     "execution_count": 48,
     "metadata": {},
     "output_type": "execute_result"
    }
   ],
   "source": [
    "x_train.shape"
   ]
  },
  {
   "cell_type": "code",
   "execution_count": 49,
   "id": "e77adda3",
   "metadata": {},
   "outputs": [
    {
     "data": {
      "text/plain": [
       "(2059, 4)"
      ]
     },
     "execution_count": 49,
     "metadata": {},
     "output_type": "execute_result"
    }
   ],
   "source": [
    "x_test.shape"
   ]
  },
  {
   "cell_type": "code",
   "execution_count": 50,
   "id": "003ceb8f",
   "metadata": {},
   "outputs": [
    {
     "data": {
      "text/plain": [
       "(4178,)"
      ]
     },
     "execution_count": 50,
     "metadata": {},
     "output_type": "execute_result"
    }
   ],
   "source": [
    "y_train.shape"
   ]
  },
  {
   "cell_type": "code",
   "execution_count": 51,
   "id": "464ecafb",
   "metadata": {},
   "outputs": [
    {
     "data": {
      "text/plain": [
       "(2059,)"
      ]
     },
     "execution_count": 51,
     "metadata": {},
     "output_type": "execute_result"
    }
   ],
   "source": [
    "y_test.shape"
   ]
  },
  {
   "cell_type": "code",
   "execution_count": 52,
   "id": "ab6ce035",
   "metadata": {},
   "outputs": [],
   "source": [
    "from sklearn.preprocessing import StandardScaler\n",
    "sc = StandardScaler()\n",
    "x_train = sc.fit_transform(x_train)\n",
    "x_test = sc.transform(x_test)"
   ]
  },
  {
   "cell_type": "code",
   "execution_count": 53,
   "id": "487c9829",
   "metadata": {},
   "outputs": [
    {
     "data": {
      "text/plain": [
       "array([[ 1.06165073, -0.21561443, -0.54113596, -1.07274483],\n",
       "       [ 1.06165073, -0.2216455 , -0.41710456,  1.63300719],\n",
       "       [ 0.46303718, -0.20958335, -0.03555033,  0.12981162],\n",
       "       ...,\n",
       "       [-0.88384331, -0.14324156, -1.37326127,  1.63300719],\n",
       "       [ 0.01407702, -0.19149014,  0.17642423,  0.43045074],\n",
       "       [-0.13557637, -0.0708687 ,  0.82294666,  0.12981162]])"
      ]
     },
     "execution_count": 53,
     "metadata": {},
     "output_type": "execute_result"
    }
   ],
   "source": [
    "x_train"
   ]
  },
  {
   "cell_type": "code",
   "execution_count": 54,
   "id": "fc32891d",
   "metadata": {},
   "outputs": [
    {
     "data": {
      "text/plain": [
       "array([[-0.43488315, -0.18545907, -1.65426522,  0.12981162],\n",
       "       [-0.58453653, -0.17339692,  0.3888668 ,  0.12981162],\n",
       "       [-0.13557637, -0.20958335, -1.70485006, -0.4714666 ],\n",
       "       ...,\n",
       "       [ 1.06165073, -0.21561443,  0.38731747, -0.77210572],\n",
       "       [ 1.06165073, -0.2216455 , -0.59920081,  0.12981162],\n",
       "       [-0.43488315,  1.24390495,  0.93320097, -1.67402305]])"
      ]
     },
     "execution_count": 54,
     "metadata": {},
     "output_type": "execute_result"
    }
   ],
   "source": [
    "x_test"
   ]
  },
  {
   "cell_type": "code",
   "execution_count": 55,
   "id": "57cbb1aa",
   "metadata": {},
   "outputs": [
    {
     "data": {
      "text/html": [
       "<style>#sk-container-id-3 {\n",
       "  /* Definition of color scheme common for light and dark mode */\n",
       "  --sklearn-color-text: black;\n",
       "  --sklearn-color-line: gray;\n",
       "  /* Definition of color scheme for unfitted estimators */\n",
       "  --sklearn-color-unfitted-level-0: #fff5e6;\n",
       "  --sklearn-color-unfitted-level-1: #f6e4d2;\n",
       "  --sklearn-color-unfitted-level-2: #ffe0b3;\n",
       "  --sklearn-color-unfitted-level-3: chocolate;\n",
       "  /* Definition of color scheme for fitted estimators */\n",
       "  --sklearn-color-fitted-level-0: #f0f8ff;\n",
       "  --sklearn-color-fitted-level-1: #d4ebff;\n",
       "  --sklearn-color-fitted-level-2: #b3dbfd;\n",
       "  --sklearn-color-fitted-level-3: cornflowerblue;\n",
       "\n",
       "  /* Specific color for light theme */\n",
       "  --sklearn-color-text-on-default-background: var(--sg-text-color, var(--theme-code-foreground, var(--jp-content-font-color1, black)));\n",
       "  --sklearn-color-background: var(--sg-background-color, var(--theme-background, var(--jp-layout-color0, white)));\n",
       "  --sklearn-color-border-box: var(--sg-text-color, var(--theme-code-foreground, var(--jp-content-font-color1, black)));\n",
       "  --sklearn-color-icon: #696969;\n",
       "\n",
       "  @media (prefers-color-scheme: dark) {\n",
       "    /* Redefinition of color scheme for dark theme */\n",
       "    --sklearn-color-text-on-default-background: var(--sg-text-color, var(--theme-code-foreground, var(--jp-content-font-color1, white)));\n",
       "    --sklearn-color-background: var(--sg-background-color, var(--theme-background, var(--jp-layout-color0, #111)));\n",
       "    --sklearn-color-border-box: var(--sg-text-color, var(--theme-code-foreground, var(--jp-content-font-color1, white)));\n",
       "    --sklearn-color-icon: #878787;\n",
       "  }\n",
       "}\n",
       "\n",
       "#sk-container-id-3 {\n",
       "  color: var(--sklearn-color-text);\n",
       "}\n",
       "\n",
       "#sk-container-id-3 pre {\n",
       "  padding: 0;\n",
       "}\n",
       "\n",
       "#sk-container-id-3 input.sk-hidden--visually {\n",
       "  border: 0;\n",
       "  clip: rect(1px 1px 1px 1px);\n",
       "  clip: rect(1px, 1px, 1px, 1px);\n",
       "  height: 1px;\n",
       "  margin: -1px;\n",
       "  overflow: hidden;\n",
       "  padding: 0;\n",
       "  position: absolute;\n",
       "  width: 1px;\n",
       "}\n",
       "\n",
       "#sk-container-id-3 div.sk-dashed-wrapped {\n",
       "  border: 1px dashed var(--sklearn-color-line);\n",
       "  margin: 0 0.4em 0.5em 0.4em;\n",
       "  box-sizing: border-box;\n",
       "  padding-bottom: 0.4em;\n",
       "  background-color: var(--sklearn-color-background);\n",
       "}\n",
       "\n",
       "#sk-container-id-3 div.sk-container {\n",
       "  /* jupyter's `normalize.less` sets `[hidden] { display: none; }`\n",
       "     but bootstrap.min.css set `[hidden] { display: none !important; }`\n",
       "     so we also need the `!important` here to be able to override the\n",
       "     default hidden behavior on the sphinx rendered scikit-learn.org.\n",
       "     See: https://github.com/scikit-learn/scikit-learn/issues/21755 */\n",
       "  display: inline-block !important;\n",
       "  position: relative;\n",
       "}\n",
       "\n",
       "#sk-container-id-3 div.sk-text-repr-fallback {\n",
       "  display: none;\n",
       "}\n",
       "\n",
       "div.sk-parallel-item,\n",
       "div.sk-serial,\n",
       "div.sk-item {\n",
       "  /* draw centered vertical line to link estimators */\n",
       "  background-image: linear-gradient(var(--sklearn-color-text-on-default-background), var(--sklearn-color-text-on-default-background));\n",
       "  background-size: 2px 100%;\n",
       "  background-repeat: no-repeat;\n",
       "  background-position: center center;\n",
       "}\n",
       "\n",
       "/* Parallel-specific style estimator block */\n",
       "\n",
       "#sk-container-id-3 div.sk-parallel-item::after {\n",
       "  content: \"\";\n",
       "  width: 100%;\n",
       "  border-bottom: 2px solid var(--sklearn-color-text-on-default-background);\n",
       "  flex-grow: 1;\n",
       "}\n",
       "\n",
       "#sk-container-id-3 div.sk-parallel {\n",
       "  display: flex;\n",
       "  align-items: stretch;\n",
       "  justify-content: center;\n",
       "  background-color: var(--sklearn-color-background);\n",
       "  position: relative;\n",
       "}\n",
       "\n",
       "#sk-container-id-3 div.sk-parallel-item {\n",
       "  display: flex;\n",
       "  flex-direction: column;\n",
       "}\n",
       "\n",
       "#sk-container-id-3 div.sk-parallel-item:first-child::after {\n",
       "  align-self: flex-end;\n",
       "  width: 50%;\n",
       "}\n",
       "\n",
       "#sk-container-id-3 div.sk-parallel-item:last-child::after {\n",
       "  align-self: flex-start;\n",
       "  width: 50%;\n",
       "}\n",
       "\n",
       "#sk-container-id-3 div.sk-parallel-item:only-child::after {\n",
       "  width: 0;\n",
       "}\n",
       "\n",
       "/* Serial-specific style estimator block */\n",
       "\n",
       "#sk-container-id-3 div.sk-serial {\n",
       "  display: flex;\n",
       "  flex-direction: column;\n",
       "  align-items: center;\n",
       "  background-color: var(--sklearn-color-background);\n",
       "  padding-right: 1em;\n",
       "  padding-left: 1em;\n",
       "}\n",
       "\n",
       "\n",
       "/* Toggleable style: style used for estimator/Pipeline/ColumnTransformer box that is\n",
       "clickable and can be expanded/collapsed.\n",
       "- Pipeline and ColumnTransformer use this feature and define the default style\n",
       "- Estimators will overwrite some part of the style using the `sk-estimator` class\n",
       "*/\n",
       "\n",
       "/* Pipeline and ColumnTransformer style (default) */\n",
       "\n",
       "#sk-container-id-3 div.sk-toggleable {\n",
       "  /* Default theme specific background. It is overwritten whether we have a\n",
       "  specific estimator or a Pipeline/ColumnTransformer */\n",
       "  background-color: var(--sklearn-color-background);\n",
       "}\n",
       "\n",
       "/* Toggleable label */\n",
       "#sk-container-id-3 label.sk-toggleable__label {\n",
       "  cursor: pointer;\n",
       "  display: block;\n",
       "  width: 100%;\n",
       "  margin-bottom: 0;\n",
       "  padding: 0.5em;\n",
       "  box-sizing: border-box;\n",
       "  text-align: center;\n",
       "}\n",
       "\n",
       "#sk-container-id-3 label.sk-toggleable__label-arrow:before {\n",
       "  /* Arrow on the left of the label */\n",
       "  content: \"▸\";\n",
       "  float: left;\n",
       "  margin-right: 0.25em;\n",
       "  color: var(--sklearn-color-icon);\n",
       "}\n",
       "\n",
       "#sk-container-id-3 label.sk-toggleable__label-arrow:hover:before {\n",
       "  color: var(--sklearn-color-text);\n",
       "}\n",
       "\n",
       "/* Toggleable content - dropdown */\n",
       "\n",
       "#sk-container-id-3 div.sk-toggleable__content {\n",
       "  max-height: 0;\n",
       "  max-width: 0;\n",
       "  overflow: hidden;\n",
       "  text-align: left;\n",
       "  /* unfitted */\n",
       "  background-color: var(--sklearn-color-unfitted-level-0);\n",
       "}\n",
       "\n",
       "#sk-container-id-3 div.sk-toggleable__content.fitted {\n",
       "  /* fitted */\n",
       "  background-color: var(--sklearn-color-fitted-level-0);\n",
       "}\n",
       "\n",
       "#sk-container-id-3 div.sk-toggleable__content pre {\n",
       "  margin: 0.2em;\n",
       "  border-radius: 0.25em;\n",
       "  color: var(--sklearn-color-text);\n",
       "  /* unfitted */\n",
       "  background-color: var(--sklearn-color-unfitted-level-0);\n",
       "}\n",
       "\n",
       "#sk-container-id-3 div.sk-toggleable__content.fitted pre {\n",
       "  /* unfitted */\n",
       "  background-color: var(--sklearn-color-fitted-level-0);\n",
       "}\n",
       "\n",
       "#sk-container-id-3 input.sk-toggleable__control:checked~div.sk-toggleable__content {\n",
       "  /* Expand drop-down */\n",
       "  max-height: 200px;\n",
       "  max-width: 100%;\n",
       "  overflow: auto;\n",
       "}\n",
       "\n",
       "#sk-container-id-3 input.sk-toggleable__control:checked~label.sk-toggleable__label-arrow:before {\n",
       "  content: \"▾\";\n",
       "}\n",
       "\n",
       "/* Pipeline/ColumnTransformer-specific style */\n",
       "\n",
       "#sk-container-id-3 div.sk-label input.sk-toggleable__control:checked~label.sk-toggleable__label {\n",
       "  color: var(--sklearn-color-text);\n",
       "  background-color: var(--sklearn-color-unfitted-level-2);\n",
       "}\n",
       "\n",
       "#sk-container-id-3 div.sk-label.fitted input.sk-toggleable__control:checked~label.sk-toggleable__label {\n",
       "  background-color: var(--sklearn-color-fitted-level-2);\n",
       "}\n",
       "\n",
       "/* Estimator-specific style */\n",
       "\n",
       "/* Colorize estimator box */\n",
       "#sk-container-id-3 div.sk-estimator input.sk-toggleable__control:checked~label.sk-toggleable__label {\n",
       "  /* unfitted */\n",
       "  background-color: var(--sklearn-color-unfitted-level-2);\n",
       "}\n",
       "\n",
       "#sk-container-id-3 div.sk-estimator.fitted input.sk-toggleable__control:checked~label.sk-toggleable__label {\n",
       "  /* fitted */\n",
       "  background-color: var(--sklearn-color-fitted-level-2);\n",
       "}\n",
       "\n",
       "#sk-container-id-3 div.sk-label label.sk-toggleable__label,\n",
       "#sk-container-id-3 div.sk-label label {\n",
       "  /* The background is the default theme color */\n",
       "  color: var(--sklearn-color-text-on-default-background);\n",
       "}\n",
       "\n",
       "/* On hover, darken the color of the background */\n",
       "#sk-container-id-3 div.sk-label:hover label.sk-toggleable__label {\n",
       "  color: var(--sklearn-color-text);\n",
       "  background-color: var(--sklearn-color-unfitted-level-2);\n",
       "}\n",
       "\n",
       "/* Label box, darken color on hover, fitted */\n",
       "#sk-container-id-3 div.sk-label.fitted:hover label.sk-toggleable__label.fitted {\n",
       "  color: var(--sklearn-color-text);\n",
       "  background-color: var(--sklearn-color-fitted-level-2);\n",
       "}\n",
       "\n",
       "/* Estimator label */\n",
       "\n",
       "#sk-container-id-3 div.sk-label label {\n",
       "  font-family: monospace;\n",
       "  font-weight: bold;\n",
       "  display: inline-block;\n",
       "  line-height: 1.2em;\n",
       "}\n",
       "\n",
       "#sk-container-id-3 div.sk-label-container {\n",
       "  text-align: center;\n",
       "}\n",
       "\n",
       "/* Estimator-specific */\n",
       "#sk-container-id-3 div.sk-estimator {\n",
       "  font-family: monospace;\n",
       "  border: 1px dotted var(--sklearn-color-border-box);\n",
       "  border-radius: 0.25em;\n",
       "  box-sizing: border-box;\n",
       "  margin-bottom: 0.5em;\n",
       "  /* unfitted */\n",
       "  background-color: var(--sklearn-color-unfitted-level-0);\n",
       "}\n",
       "\n",
       "#sk-container-id-3 div.sk-estimator.fitted {\n",
       "  /* fitted */\n",
       "  background-color: var(--sklearn-color-fitted-level-0);\n",
       "}\n",
       "\n",
       "/* on hover */\n",
       "#sk-container-id-3 div.sk-estimator:hover {\n",
       "  /* unfitted */\n",
       "  background-color: var(--sklearn-color-unfitted-level-2);\n",
       "}\n",
       "\n",
       "#sk-container-id-3 div.sk-estimator.fitted:hover {\n",
       "  /* fitted */\n",
       "  background-color: var(--sklearn-color-fitted-level-2);\n",
       "}\n",
       "\n",
       "/* Specification for estimator info (e.g. \"i\" and \"?\") */\n",
       "\n",
       "/* Common style for \"i\" and \"?\" */\n",
       "\n",
       ".sk-estimator-doc-link,\n",
       "a:link.sk-estimator-doc-link,\n",
       "a:visited.sk-estimator-doc-link {\n",
       "  float: right;\n",
       "  font-size: smaller;\n",
       "  line-height: 1em;\n",
       "  font-family: monospace;\n",
       "  background-color: var(--sklearn-color-background);\n",
       "  border-radius: 1em;\n",
       "  height: 1em;\n",
       "  width: 1em;\n",
       "  text-decoration: none !important;\n",
       "  margin-left: 1ex;\n",
       "  /* unfitted */\n",
       "  border: var(--sklearn-color-unfitted-level-1) 1pt solid;\n",
       "  color: var(--sklearn-color-unfitted-level-1);\n",
       "}\n",
       "\n",
       ".sk-estimator-doc-link.fitted,\n",
       "a:link.sk-estimator-doc-link.fitted,\n",
       "a:visited.sk-estimator-doc-link.fitted {\n",
       "  /* fitted */\n",
       "  border: var(--sklearn-color-fitted-level-1) 1pt solid;\n",
       "  color: var(--sklearn-color-fitted-level-1);\n",
       "}\n",
       "\n",
       "/* On hover */\n",
       "div.sk-estimator:hover .sk-estimator-doc-link:hover,\n",
       ".sk-estimator-doc-link:hover,\n",
       "div.sk-label-container:hover .sk-estimator-doc-link:hover,\n",
       ".sk-estimator-doc-link:hover {\n",
       "  /* unfitted */\n",
       "  background-color: var(--sklearn-color-unfitted-level-3);\n",
       "  color: var(--sklearn-color-background);\n",
       "  text-decoration: none;\n",
       "}\n",
       "\n",
       "div.sk-estimator.fitted:hover .sk-estimator-doc-link.fitted:hover,\n",
       ".sk-estimator-doc-link.fitted:hover,\n",
       "div.sk-label-container:hover .sk-estimator-doc-link.fitted:hover,\n",
       ".sk-estimator-doc-link.fitted:hover {\n",
       "  /* fitted */\n",
       "  background-color: var(--sklearn-color-fitted-level-3);\n",
       "  color: var(--sklearn-color-background);\n",
       "  text-decoration: none;\n",
       "}\n",
       "\n",
       "/* Span, style for the box shown on hovering the info icon */\n",
       ".sk-estimator-doc-link span {\n",
       "  display: none;\n",
       "  z-index: 9999;\n",
       "  position: relative;\n",
       "  font-weight: normal;\n",
       "  right: .2ex;\n",
       "  padding: .5ex;\n",
       "  margin: .5ex;\n",
       "  width: min-content;\n",
       "  min-width: 20ex;\n",
       "  max-width: 50ex;\n",
       "  color: var(--sklearn-color-text);\n",
       "  box-shadow: 2pt 2pt 4pt #999;\n",
       "  /* unfitted */\n",
       "  background: var(--sklearn-color-unfitted-level-0);\n",
       "  border: .5pt solid var(--sklearn-color-unfitted-level-3);\n",
       "}\n",
       "\n",
       ".sk-estimator-doc-link.fitted span {\n",
       "  /* fitted */\n",
       "  background: var(--sklearn-color-fitted-level-0);\n",
       "  border: var(--sklearn-color-fitted-level-3);\n",
       "}\n",
       "\n",
       ".sk-estimator-doc-link:hover span {\n",
       "  display: block;\n",
       "}\n",
       "\n",
       "/* \"?\"-specific style due to the `<a>` HTML tag */\n",
       "\n",
       "#sk-container-id-3 a.estimator_doc_link {\n",
       "  float: right;\n",
       "  font-size: 1rem;\n",
       "  line-height: 1em;\n",
       "  font-family: monospace;\n",
       "  background-color: var(--sklearn-color-background);\n",
       "  border-radius: 1rem;\n",
       "  height: 1rem;\n",
       "  width: 1rem;\n",
       "  text-decoration: none;\n",
       "  /* unfitted */\n",
       "  color: var(--sklearn-color-unfitted-level-1);\n",
       "  border: var(--sklearn-color-unfitted-level-1) 1pt solid;\n",
       "}\n",
       "\n",
       "#sk-container-id-3 a.estimator_doc_link.fitted {\n",
       "  /* fitted */\n",
       "  border: var(--sklearn-color-fitted-level-1) 1pt solid;\n",
       "  color: var(--sklearn-color-fitted-level-1);\n",
       "}\n",
       "\n",
       "/* On hover */\n",
       "#sk-container-id-3 a.estimator_doc_link:hover {\n",
       "  /* unfitted */\n",
       "  background-color: var(--sklearn-color-unfitted-level-3);\n",
       "  color: var(--sklearn-color-background);\n",
       "  text-decoration: none;\n",
       "}\n",
       "\n",
       "#sk-container-id-3 a.estimator_doc_link.fitted:hover {\n",
       "  /* fitted */\n",
       "  background-color: var(--sklearn-color-fitted-level-3);\n",
       "}\n",
       "</style><div id=\"sk-container-id-3\" class=\"sk-top-container\"><div class=\"sk-text-repr-fallback\"><pre>LinearRegression()</pre><b>In a Jupyter environment, please rerun this cell to show the HTML representation or trust the notebook. <br />On GitHub, the HTML representation is unable to render, please try loading this page with nbviewer.org.</b></div><div class=\"sk-container\" hidden><div class=\"sk-item\"><div class=\"sk-estimator fitted sk-toggleable\"><input class=\"sk-toggleable__control sk-hidden--visually\" id=\"sk-estimator-id-3\" type=\"checkbox\" checked><label for=\"sk-estimator-id-3\" class=\"sk-toggleable__label fitted sk-toggleable__label-arrow fitted\">&nbsp;&nbsp;LinearRegression<a class=\"sk-estimator-doc-link fitted\" rel=\"noreferrer\" target=\"_blank\" href=\"https://scikit-learn.org/1.5/modules/generated/sklearn.linear_model.LinearRegression.html\">?<span>Documentation for LinearRegression</span></a><span class=\"sk-estimator-doc-link fitted\">i<span>Fitted</span></span></label><div class=\"sk-toggleable__content fitted\"><pre>LinearRegression()</pre></div> </div></div></div></div>"
      ],
      "text/plain": [
       "LinearRegression()"
      ]
     },
     "execution_count": 55,
     "metadata": {},
     "output_type": "execute_result"
    }
   ],
   "source": [
    "from sklearn.linear_model import LinearRegression\n",
    "regression = LinearRegression()\n",
    "regression.fit(x_train, y_train)"
   ]
  },
  {
   "cell_type": "code",
   "execution_count": 56,
   "id": "4a5e8620",
   "metadata": {},
   "outputs": [],
   "source": [
    "y_pred = regression.predict(x_test)"
   ]
  },
  {
   "cell_type": "code",
   "execution_count": 57,
   "id": "e50ce7e2",
   "metadata": {},
   "outputs": [],
   "source": [
    "from sklearn.metrics import r2_score"
   ]
  },
  {
   "cell_type": "code",
   "execution_count": 58,
   "id": "9fd473b6",
   "metadata": {},
   "outputs": [
    {
     "name": "stdout",
     "output_type": "stream",
     "text": [
      "Mean Squared Error: 611623.5134395679\n"
     ]
    }
   ],
   "source": [
    "mse = mean_squared_error(y_test, y_pred)\n",
    "print('Mean Squared Error:', mse)"
   ]
  },
  {
   "cell_type": "code",
   "execution_count": 59,
   "id": "dc989fc0",
   "metadata": {},
   "outputs": [
    {
     "data": {
      "text/plain": [
       "0.012201522425438482"
      ]
     },
     "execution_count": 59,
     "metadata": {},
     "output_type": "execute_result"
    }
   ],
   "source": [
    "r2_score(y_test, y_pred)"
   ]
  },
  {
   "cell_type": "code",
   "execution_count": 62,
   "id": "f6eac95c",
   "metadata": {},
   "outputs": [
    {
     "name": "stdout",
     "output_type": "stream",
     "text": [
      "This are the my line coefficients: [ 81.32523123 -51.69366856 -15.46044393  27.80026499]\n",
      "this is my line intercept: 547.7674844423168\n"
     ]
    }
   ],
   "source": [
    "print(\"This are the my line coefficients:\",regression.coef_)  \n",
    "print(\"this is my line intercept:\",regression.intercept_)"
   ]
  },
  {
   "cell_type": "code",
   "execution_count": null,
   "id": "347438dd",
   "metadata": {},
   "outputs": [],
   "source": []
  }
 ],
 "metadata": {
  "kernelspec": {
   "display_name": "Python 3 (ipykernel)",
   "language": "python",
   "name": "python3"
  },
  "language_info": {
   "codemirror_mode": {
    "name": "ipython",
    "version": 3
   },
   "file_extension": ".py",
   "mimetype": "text/x-python",
   "name": "python",
   "nbconvert_exporter": "python",
   "pygments_lexer": "ipython3",
   "version": "3.11.4"
  }
 },
 "nbformat": 4,
 "nbformat_minor": 5
}
